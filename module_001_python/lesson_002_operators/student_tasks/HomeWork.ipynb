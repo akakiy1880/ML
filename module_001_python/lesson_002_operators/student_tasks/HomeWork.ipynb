{
 "cells": [
  {
   "cell_type": "markdown",
   "metadata": {},
   "source": [
    "# Задача 1\n",
    "\n",
    "Фильтр по квартирам. Есть информация о квартире, проверить следующие условия:\n",
    "* Цена меньше 3млн и 2 комнатная, но не в центре\n",
    "* В центре, не на первых этажах (1-3) и должен быть лифт\n",
    "* Без лифта и цена от 1млн до 2.5 млн"
   ]
  },
  {
   "cell_type": "code",
   "execution_count": 1,
   "metadata": {},
   "outputs": [],
   "source": [
    "# Цена квартиры\n",
    "price = 2_000_000\n",
    "\n",
    "# Кол-во комнат\n",
    "rooms = 1\n",
    "\n",
    "# Расположение в городе\n",
    "location = \"center\"\n",
    "\n",
    "# Наличие лифта\n",
    "elevator = True\n",
    "\n",
    "# Этаж\n",
    "floor = 7"
   ]
  },
  {
   "cell_type": "code",
   "execution_count": 2,
   "metadata": {},
   "outputs": [],
   "source": [
    "# Version 1.0\n",
    "\n",
    "# if price<3000000 and rooms==2 and location!=\"center\":\n",
    "#     print(\"True\")\n",
    "# else:\n",
    "#     print(\"False\")\n",
    "    \n",
    "# if location == \"center\" and floor > 3 and elevator==True:\n",
    "#     print(\"True\")\n",
    "# else:\n",
    "#     print(\"False\")\n",
    "    \n",
    "# if  1000000<price<2500000 and elevator == False:\n",
    "#     print(\"True\")\n",
    "# else:\n",
    "#     print(\"False\")\n",
    "\n",
    "#Version 2.0\n",
    "exp1 = price < 3_000_000 and rooms == 2 and location != \"center\"\n",
    "exp2 = location == \"center\" and floor > 3 and elevator == True\n",
    "exp3 = 1_000_000 < price < 2_500_000 and elevator == False\n",
    "\n",
    "print(exp1)\n",
    "print(exp2)\n",
    "print(exp3)\n"
   ]
  },
  {
   "cell_type": "markdown",
   "metadata": {},
   "source": [
    "# Задача 2\n",
    "\n",
    "* Вывести числа от 100 до 0, с шагом в 5"
   ]
  },
  {
   "cell_type": "code",
   "execution_count": 3,
   "metadata": {},
   "outputs": [
    {
     "name": "stdout",
     "output_type": "stream",
     "text": [
      "100\n",
      "95\n",
      "90\n",
      "85\n",
      "80\n",
      "75\n",
      "70\n",
      "65\n",
      "60\n",
      "55\n",
      "50\n",
      "45\n",
      "40\n",
      "35\n",
      "30\n",
      "25\n",
      "20\n",
      "15\n",
      "10\n",
      "5\n"
     ]
    }
   ],
   "source": [
    "for a in range(100,0,-5):\n",
    " print(a)"
   ]
  },
  {
   "cell_type": "markdown",
   "metadata": {},
   "source": [
    "# Задача 3\n",
    "* Напечатать список простых чисел от 2 до 1000 - http://ru.math.wikia.com/wiki/%D0%9F%D1%80%D0%BE%D1%81%D1%82%D0%BE%D0%B5_%D1%87%D0%B8%D1%81%D0%BB%D0%BE"
   ]
  },
  {
   "cell_type": "code",
   "execution_count": 4,
   "metadata": {},
   "outputs": [],
   "source": [
    "# пишите здесь свой код\n"
   ]
  }
 ],
 "metadata": {
  "kernelspec": {
   "display_name": "Python 3",
   "language": "python",
   "name": "python3"
  },
  "language_info": {
   "codemirror_mode": {
    "name": "ipython",
    "version": 3
   },
   "file_extension": ".py",
   "mimetype": "text/x-python",
   "name": "python",
   "nbconvert_exporter": "python",
   "pygments_lexer": "ipython3",
   "version": "3.7.3"
  }
 },
 "nbformat": 4,
 "nbformat_minor": 2
}
