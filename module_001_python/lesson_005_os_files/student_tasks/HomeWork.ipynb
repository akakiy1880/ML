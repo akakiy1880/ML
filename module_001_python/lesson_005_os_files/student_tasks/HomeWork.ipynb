{
 "cells": [
  {
   "cell_type": "markdown",
   "metadata": {},
   "source": [
    "# Задача 1\n",
    "* Копирование файла, в текущей папке есть изображение img1.jpg, нужно скопировать это изображение и назвать img2.jpg\n",
    "\n",
    "Режимы открытия файла, можно прочитать здесь: https://www.w3schools.com/python/ref_func_open.asp\n",
    "<img href=\"img2.jpg\">"
   ]
  },
  {
   "cell_type": "code",
   "execution_count": 1,
   "metadata": {},
   "outputs": [],
   "source": [
    "# Version 1\n",
    "with open(\"img1.jpg\",\"rb\") as f:\n",
    "    with open(\"img2.jpg\",\"wb\") as f2:\n",
    "        f2.write(f.read())"
   ]
  },
  {
   "cell_type": "code",
   "execution_count": null,
   "metadata": {},
   "outputs": [],
   "source": [
    "# Version 2\n",
    "import shutil\n",
    "shutil.copy(\"img2.jpg\",\"img3.jpg\")"
   ]
  },
  {
   "cell_type": "markdown",
   "metadata": {},
   "source": [
    "# Задача 2\n",
    "* В текущей директории лежит файл addresses.csv, прочитайте этот файл, выведите информацию о том сколько в нем записей(строк) и сколько признаков(колонок), добавьте каждой записи новую колонку country и запишите информацию в новый файл addresses2.csv\n",
    "\n",
    "Информация о writer - https://docs.python.org/3/library/csv.html"
   ]
  },
  {
   "cell_type": "code",
   "execution_count": 3,
   "metadata": {
    "scrolled": false
   },
   "outputs": [
    {
     "name": "stdout",
     "output_type": "stream",
     "text": [
      "addresses.csv ['John', 'Doe', '120 jefferson st.', 'Riverside', ' NJ', ' 08075']\n",
      "addresses2.csv ['John', 'Doe', '120 jefferson st.', 'Riverside', ' NJ', ' 08075', 'UK']\n",
      "\n",
      "-------\n",
      "\n",
      "addresses.csv ['Jack', 'McGinnis', '220 hobo Av.', 'Phila', ' PA', '09119']\n",
      "addresses2.csv ['Jack', 'McGinnis', '220 hobo Av.', 'Phila', ' PA', '09119', 'UK']\n",
      "\n",
      "-------\n",
      "\n",
      "addresses.csv ['John \"Da Man\"', 'Repici', '120 Jefferson St.', 'Riverside', ' NJ', '08075']\n",
      "addresses2.csv ['John \"Da Man\"', 'Repici', '120 Jefferson St.', 'Riverside', ' NJ', '08075', 'UK']\n",
      "\n",
      "-------\n",
      "\n",
      "addresses.csv ['Stephen', 'Tyler', '7452 Terrace \"At the Plaza\" road', 'SomeTown', 'SD', ' 91234']\n",
      "addresses2.csv ['Stephen', 'Tyler', '7452 Terrace \"At the Plaza\" road', 'SomeTown', 'SD', ' 91234', 'UK']\n",
      "\n",
      "-------\n",
      "\n",
      "addresses.csv ['', 'Blankman', '', 'SomeTown', ' SD', ' 00298']\n",
      "addresses2.csv ['', 'Blankman', '', 'SomeTown', ' SD', ' 00298', 'USA']\n",
      "\n",
      "-------\n",
      "\n",
      "addresses.csv ['Joan \"the bone\", Anne', 'Jet', '9th, at Terrace plc', 'Desert City', 'CO', '00123']\n",
      "addresses2.csv ['Joan \"the bone\", Anne', 'Jet', '9th, at Terrace plc', 'Desert City', 'CO', '00123', 'USA']\n",
      "\n",
      "-------\n",
      "\n",
      "addresses.csv ['Alex', 'Poluyanov', '120 jefferson st.', 'SomeTown', ' ', '100015']\n",
      "addresses2.csv ['Alex', 'Poluyanov', '120 jefferson st.', 'SomeTown', ' ', '100015', 'Uzbekistan']\n",
      "\n",
      "-------\n",
      "\n",
      "Количество записей: 7\n",
      "Количество признаков в addresses.csv: 6\n",
      "Количество признаков в addresses2.csv: 7\n"
     ]
    }
   ],
   "source": [
    "import csv\n",
    "import random\n",
    "\n",
    "def country ():\n",
    "    rand = random.randint(1,3)\n",
    "    if (rand == 1):\n",
    "        return \"USA\";\n",
    "    elif (rand == 2):\n",
    "        return \"UK\";\n",
    "    else:\n",
    "        return \"Uzbekistan\";\n",
    "         \n",
    "with open('addresses.csv', 'r') as fr:\n",
    "    with open('addresses2.csv', 'w', newline='') as fw:\n",
    "        csv_reader = csv.reader(fr, delimiter=\",\")\n",
    "        csv_writer = csv.writer(fw,  delimiter=',', quotechar='\"', quoting=csv.QUOTE_MINIMAL)\n",
    "        row_count = 0\n",
    "        column_count = 0\n",
    "        for line in csv_reader:\n",
    "            row_count += 1\n",
    "            column_count = len(line)\n",
    "            print(\"addresses.csv\",line)\n",
    "            line.append(country())\n",
    "            csv_writer.writerow(line)\n",
    "            column_count_finish = len(line)\n",
    "            print(\"addresses2.csv\",line)\n",
    "            print('\\n-------\\n')\n",
    "\n",
    "        print(\"Количество записей:\",row_count)\n",
    "        print(\"Количество признаков в addresses.csv:\",column_count)\n",
    "        print(\"Количество признаков в addresses2.csv:\",column_count_finish)\n",
    "        \n"
   ]
  }
 ],
 "metadata": {
  "kernelspec": {
   "display_name": "Python 3",
   "language": "python",
   "name": "python3"
  },
  "language_info": {
   "codemirror_mode": {
    "name": "ipython",
    "version": 3
   },
   "file_extension": ".py",
   "mimetype": "text/x-python",
   "name": "python",
   "nbconvert_exporter": "python",
   "pygments_lexer": "ipython3",
   "version": "3.7.3"
  }
 },
 "nbformat": 4,
 "nbformat_minor": 2
}
