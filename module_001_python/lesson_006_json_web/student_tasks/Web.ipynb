{
 "cells": [
  {
   "cell_type": "markdown",
   "metadata": {},
   "source": [
    "# Задание 1\n",
    "Используя тестовый сервер предоставляющий REST-API: https://jsonplaceholder.typicode.com/, выполнить следующие действия\n",
    "\n",
    "* Найти id пользователя с именим **Nicholas Runolfsdottir V**\n",
    "* Загрузить все посты данного пользователя\n",
    "* Выбрать случайный пост и загрузить все комментарии поста"
   ]
  },
  {
   "cell_type": "code",
   "execution_count": 14,
   "metadata": {},
   "outputs": [],
   "source": [
    "import requests\n",
    "\n",
    "def all_users ():\n",
    "    all_user = requests.get(\"https://jsonplaceholder.typicode.com/users\")\n",
    "    return  all_user.json()\n",
    "\n",
    "def find_user (user_json, name):\n",
    "    for user in user_json:\n",
    "        if (user[\"name\"] == name):\n",
    "            return user\n",
    "    return None\n",
    "\n",
    "def all_posts(user_id):\n",
    "    playload = {'userId': user_id}\n",
    "    posts_req = requests.get(\"https://jsonplaceholder.typicode.com/posts\", playload)\n",
    "    return posts_req.json()\n",
    "\n",
    "def post_comments(post_id):\n",
    "    playload = {'postId': post_id}\n",
    "    posts_com = requests.get(\"https://jsonplaceholder.typicode.com/comments\", playload)\n",
    "    return posts_com.json()"
   ]
  },
  {
   "cell_type": "code",
   "execution_count": 15,
   "metadata": {},
   "outputs": [
    {
     "name": "stdout",
     "output_type": "stream",
     "text": [
      "[\n",
      "  {\n",
      "    \"postId\": 71,\n",
      "    \"id\": 351,\n",
      "    \"name\": \"quia ex perspiciatis sunt voluptatem quidem\",\n",
      "    \"email\": \"Solon.Goldner@judah.org\",\n",
      "    \"body\": \"quo nisi impedit velit repellendus esse itaque ut saepe\\nvoluptatibus occaecati ab eaque dolores\\nmaxime alias velit ducimus placeat sit laudantium quia\\ncorrupti doloremque ut\"\n",
      "  },\n",
      "  {\n",
      "    \"postId\": 71,\n",
      "    \"id\": 352,\n",
      "    \"name\": \"sit ipsam voluptatem velit\",\n",
      "    \"email\": \"Nina@osbaldo.name\",\n",
      "    \"body\": \"dolorem eius voluptatem vitae aliquid unde labore est\\nmolestiae labore dolorem beatae voluptatem soluta eum eos dolore\\net ea quasi aut doloribus sint\\nvel suscipit tempora delectus soluta\"\n",
      "  },\n",
      "  {\n",
      "    \"postId\": 71,\n",
      "    \"id\": 353,\n",
      "    \"name\": \"consequatur reprehenderit similique vitae dolor debitis\",\n",
      "    \"email\": \"Madaline@marlin.org\",\n",
      "    \"body\": \"nemo aut laborum expedita nisi sed illum\\nab asperiores provident\\na sunt recusandae ut rerum itaque est voluptatibus nihil\\nesse ipsum et repellendus nobis rerum voluptas et\"\n",
      "  },\n",
      "  {\n",
      "    \"postId\": 71,\n",
      "    \"id\": 354,\n",
      "    \"name\": \"eligendi tempora eum deserunt\",\n",
      "    \"email\": \"Mike.Kozey@gladyce.us\",\n",
      "    \"body\": \"delectus est consequatur\\nat excepturi asperiores dolor nesciunt ad\\nid non aut ad ut\\nnon et voluptatem\"\n",
      "  },\n",
      "  {\n",
      "    \"postId\": 71,\n",
      "    \"id\": 355,\n",
      "    \"name\": \"reiciendis ad ea\",\n",
      "    \"email\": \"Orval.Treutel@arnold.me\",\n",
      "    \"body\": \"vel cumque labore vitae quisquam magnam sequi ut\\nmolestiae dolores vel minus aut\\nquas repellat nostrum fugit molestiae veritatis sequi\\nvel quidem in molestiae id doloribus sed\"\n",
      "  }\n",
      "]\n"
     ]
    }
   ],
   "source": [
    "import json\n",
    "user_json = all_users()\n",
    "nic = find_user(user_json,\"Nicholas Runolfsdottir V\")\n",
    "if nic is not None:\n",
    "    first_post = all_posts(nic['id'])[0]\n",
    "    print(json.dumps(post_comments(first_post['id']), indent=2))"
   ]
  }
 ],
 "metadata": {
  "kernelspec": {
   "display_name": "Python 3",
   "language": "python",
   "name": "python3"
  },
  "language_info": {
   "codemirror_mode": {
    "name": "ipython",
    "version": 3
   },
   "file_extension": ".py",
   "mimetype": "text/x-python",
   "name": "python",
   "nbconvert_exporter": "python",
   "pygments_lexer": "ipython3",
   "version": "3.7.3"
  }
 },
 "nbformat": 4,
 "nbformat_minor": 2
}
